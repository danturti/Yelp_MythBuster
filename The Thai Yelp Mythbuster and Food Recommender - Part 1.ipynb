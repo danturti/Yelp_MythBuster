{
 "cells": [
  {
   "cell_type": "markdown",
   "metadata": {},
   "source": [
    "# The Thai Yelp Mythbuster and Food Recommender - Part 1"
   ]
  },
  {
   "cell_type": "code",
   "execution_count": 1,
   "metadata": {},
   "outputs": [],
   "source": [
    "import pandas as pd\n",
    "import numpy as np\n",
    "from matplotlib import pyplot as plt\n",
    "import seaborn as sns\n",
    "\n",
    "%matplotlib inline"
   ]
  },
  {
   "cell_type": "markdown",
   "metadata": {},
   "source": [
    "## Data Loading and EDA - Overview Data-Set (restaurants)"
   ]
  },
  {
   "cell_type": "code",
   "execution_count": 2,
   "metadata": {},
   "outputs": [],
   "source": [
    "#Loading data-set of top restaurants with the reviews as a single string(overview yelp-data set; from BeautifulSoup)\n",
    "df=pd.read_csv(\"./yelp_sfo_thai.csv\")"
   ]
  },
  {
   "cell_type": "code",
   "execution_count": 3,
   "metadata": {},
   "outputs": [
    {
     "data": {
      "text/html": [
       "<div>\n",
       "<style scoped>\n",
       "    .dataframe tbody tr th:only-of-type {\n",
       "        vertical-align: middle;\n",
       "    }\n",
       "\n",
       "    .dataframe tbody tr th {\n",
       "        vertical-align: top;\n",
       "    }\n",
       "\n",
       "    .dataframe thead th {\n",
       "        text-align: right;\n",
       "    }\n",
       "</style>\n",
       "<table border=\"1\" class=\"dataframe\">\n",
       "  <thead>\n",
       "    <tr style=\"text-align: right;\">\n",
       "      <th></th>\n",
       "      <th>Name</th>\n",
       "      <th>review_count</th>\n",
       "      <th>rating</th>\n",
       "      <th>price</th>\n",
       "      <th>category</th>\n",
       "    </tr>\n",
       "  </thead>\n",
       "  <tbody>\n",
       "    <tr>\n",
       "      <th>0</th>\n",
       "      <td>Osha Thai</td>\n",
       "      <td>2208</td>\n",
       "      <td>3.5</td>\n",
       "      <td>$$</td>\n",
       "      <td>Thai</td>\n",
       "    </tr>\n",
       "    <tr>\n",
       "      <th>1</th>\n",
       "      <td>Lers Ros</td>\n",
       "      <td>2073</td>\n",
       "      <td>4.0</td>\n",
       "      <td>$$</td>\n",
       "      <td>Thai</td>\n",
       "    </tr>\n",
       "    <tr>\n",
       "      <th>2</th>\n",
       "      <td>King Of Thai Noodle House</td>\n",
       "      <td>1717</td>\n",
       "      <td>3.5</td>\n",
       "      <td>$$</td>\n",
       "      <td>Thai</td>\n",
       "    </tr>\n",
       "  </tbody>\n",
       "</table>\n",
       "</div>"
      ],
      "text/plain": [
       "                        Name  review_count  rating price category\n",
       "0                  Osha Thai          2208     3.5    $$     Thai\n",
       "1                   Lers Ros          2073     4.0    $$     Thai\n",
       "2  King Of Thai Noodle House          1717     3.5    $$     Thai"
      ]
     },
     "execution_count": 3,
     "metadata": {},
     "output_type": "execute_result"
    }
   ],
   "source": [
    "df.head(3)"
   ]
  },
  {
   "cell_type": "code",
   "execution_count": 4,
   "metadata": {},
   "outputs": [
    {
     "data": {
      "text/plain": [
       "Name            0\n",
       "review_count    0\n",
       "rating          0\n",
       "price           0\n",
       "category        0\n",
       "dtype: int64"
      ]
     },
     "execution_count": 4,
     "metadata": {},
     "output_type": "execute_result"
    }
   ],
   "source": [
    "df.isnull().sum()"
   ]
  },
  {
   "cell_type": "code",
   "execution_count": 5,
   "metadata": {},
   "outputs": [
    {
     "data": {
      "text/plain": [
       "Text(0.5,1,'Distribution of Rating')"
      ]
     },
     "execution_count": 5,
     "metadata": {},
     "output_type": "execute_result"
    },
    {
     "data": {
      "image/png": "[encoded data removed]",
      "text/plain": [
       "<Figure size 432x288 with 1 Axes>"
      ]
     },
     "metadata": {},
     "output_type": "display_data"
    }
   ],
   "source": [
    "# Analysing distribution of Thai restaurant rating in SF\n",
    "rating=df[\"rating\"]\n",
    "sns.set(style=\"white\",palette=\"muted\",color_codes=True)\n",
    "ax=sns.countplot(rating)\n",
    "ax.set_title(\"Distribution of Rating\")"
   ]
  },
  {
   "cell_type": "code",
   "execution_count": 6,
   "metadata": {},
   "outputs": [
    {
     "name": "stderr",
     "output_type": "stream",
     "text": [
      "C:\\Users\\dabhi\\Anaconda3\\lib\\site-packages\\scipy\\stats\\stats.py:1713: FutureWarning: Using a non-tuple sequence for multidimensional indexing is deprecated; use `arr[tuple(seq)]` instead of `arr[seq]`. In the future this will be interpreted as an array index, `arr[np.array(seq)]`, which will result either in an error or a different result.\n",
      "  return np.add.reduce(sorted[indexer] * weights, axis=axis) / sumval\n",
      "C:\\Users\\dabhi\\Anaconda3\\lib\\site-packages\\matplotlib\\axes\\_axes.py:6462: UserWarning: The 'normed' kwarg is deprecated, and has been replaced by the 'density' kwarg.\n",
      "  warnings.warn(\"The 'normed' kwarg is deprecated, and has been \"\n"
     ]
    },
    {
     "data": {
      "image/png": "[encoded data removed]",
      "text/plain": [
       "<Figure size 432x288 with 1 Axes>"
      ]
     },
     "metadata": {},
     "output_type": "display_data"
    }
   ],
   "source": [
    "# Analysing distribution of number of reviews per Thai restaurant in SF\n",
    "reviews=df[\"review_count\"]\n",
    "sns.set(style=\"white\",palette=\"muted\",color_codes=True)\n",
    "ax=sns.distplot(reviews)\n",
    "ax.set_title(\"Distribution of Number of Reviews\");"
   ]
  },
  {
   "cell_type": "code",
   "execution_count": 7,
   "metadata": {},
   "outputs": [
    {
     "data": {
      "text/plain": [
       "Text(0.5,1,'Distribution of price')"
      ]
     },
     "execution_count": 7,
     "metadata": {},
     "output_type": "execute_result"
    },
    {
     "data": {
      "image/png": "[encoded data removed]",
      "text/plain": [
       "<Figure size 432x288 with 1 Axes>"
      ]
     },
     "metadata": {},
     "output_type": "display_data"
    }
   ],
   "source": [
    "# Looking at the distribution of Thai price range in SF\n",
    "price_map={\"$\":\"level_1\",\"$$\":\"level_2\",\"$$$\":\"level_3\",\"$$$$\":\"level_4\"}\n",
    "price=df.price.map(price_map)\n",
    "sns.set(style=\"white\",palette=\"muted\",color_codes=True)\n",
    "ax=sns.countplot(price)\n",
    "ax.set_title(\"Distribution of price\")"
   ]
  },
  {
   "cell_type": "code",
   "execution_count": 8,
   "metadata": {},
   "outputs": [
    {
     "data": {
      "text/plain": [
       "name             object\n",
       "review_count      int64\n",
       "rating          float64\n",
       "price            object\n",
       "category         object\n",
       "dtype: object"
      ]
     },
     "execution_count": 8,
     "metadata": {},
     "output_type": "execute_result"
    }
   ],
   "source": [
    "df=df.rename(columns={'Name':'name'})\n",
    "df.dtypes"
   ]
  },
  {
   "cell_type": "code",
   "execution_count": 9,
   "metadata": {},
   "outputs": [],
   "source": [
    "# Loading the reviews data set from Beautiful Soup\n",
    "df2 = pd.read_csv('./yelp_sfo_thai_reviews_again.csv')"
   ]
  },
  {
   "cell_type": "code",
   "execution_count": 10,
   "metadata": {},
   "outputs": [],
   "source": [
    "df2 = pd.DataFrame(data=df2, columns=['name','reviews'])"
   ]
  },
  {
   "cell_type": "code",
   "execution_count": 11,
   "metadata": {},
   "outputs": [
    {
     "data": {
      "text/html": [
       "<div>\n",
       "<style scoped>\n",
       "    .dataframe tbody tr th:only-of-type {\n",
       "        vertical-align: middle;\n",
       "    }\n",
       "\n",
       "    .dataframe tbody tr th {\n",
       "        vertical-align: top;\n",
       "    }\n",
       "\n",
       "    .dataframe thead th {\n",
       "        text-align: right;\n",
       "    }\n",
       "</style>\n",
       "<table border=\"1\" class=\"dataframe\">\n",
       "  <thead>\n",
       "    <tr style=\"text-align: right;\">\n",
       "      <th></th>\n",
       "      <th>name</th>\n",
       "      <th>reviews</th>\n",
       "    </tr>\n",
       "  </thead>\n",
       "  <tbody>\n",
       "    <tr>\n",
       "      <th>0</th>\n",
       "      <td>Osha Thai</td>\n",
       "      <td>The food was pretty good, the environment nice...</td>\n",
       "    </tr>\n",
       "    <tr>\n",
       "      <th>1</th>\n",
       "      <td>Lers Ros</td>\n",
       "      <td>Delicious! I highly highly recommend the:-Quai...</td>\n",
       "    </tr>\n",
       "    <tr>\n",
       "      <th>2</th>\n",
       "      <td>King Of Thai Noodle House</td>\n",
       "      <td>Look.  It's SF and you're in Union Square.  Yo...</td>\n",
       "    </tr>\n",
       "  </tbody>\n",
       "</table>\n",
       "</div>"
      ],
      "text/plain": [
       "                        name  \\\n",
       "0                  Osha Thai   \n",
       "1                   Lers Ros   \n",
       "2  King Of Thai Noodle House   \n",
       "\n",
       "                                             reviews  \n",
       "0  The food was pretty good, the environment nice...  \n",
       "1  Delicious! I highly highly recommend the:-Quai...  \n",
       "2  Look.  It's SF and you're in Union Square.  Yo...  "
      ]
     },
     "execution_count": 11,
     "metadata": {},
     "output_type": "execute_result"
    }
   ],
   "source": [
    "df2.head(3)"
   ]
  },
  {
   "cell_type": "code",
   "execution_count": 12,
   "metadata": {},
   "outputs": [],
   "source": [
    "# Merging both the data sets\n",
    "df=df.merge(df2,on='name',how='left')"
   ]
  },
  {
   "cell_type": "code",
   "execution_count": 13,
   "metadata": {},
   "outputs": [
    {
     "name": "stderr",
     "output_type": "stream",
     "text": [
      "C:\\Users\\dabhi\\Anaconda3\\lib\\site-packages\\nltk\\twitter\\__init__.py:20: UserWarning: The twython library has not been installed. Some functionality from the twitter package will not be available.\n",
      "  warnings.warn(\"The twython library has not been installed. \"\n"
     ]
    }
   ],
   "source": [
    "# importing sentiment analysis packages from NLTK\n",
    "# Vader SentimentAnalyzer was used to obtain the polarity scores for the reviews of restaurants. \n",
    "from nltk.sentiment.vader import SentimentIntensityAnalyzer\n",
    "from nltk import tokenize\n",
    "sid = SentimentIntensityAnalyzer()"
   ]
  },
  {
   "cell_type": "code",
   "execution_count": 14,
   "metadata": {},
   "outputs": [
    {
     "data": {
      "text/plain": [
       "0     The food was pretty good, the environment nice...\n",
       "1     A coworker and I stopped at Osha Thai on a lun...\n",
       "2     Delicious! I highly highly recommend the:-Quai...\n",
       "3     Look.  It's SF and you're in Union Square.  Yo...\n",
       "4     I went here with my best friend for dinner. We...\n",
       "5     This place was good but not amazing.Papaya sal...\n",
       "6     Excellent food, unique menu, very expensive fo...\n",
       "7     Recently returned to this SF Thai restaurant, ...\n",
       "8     I went here with my best friend for dinner. We...\n",
       "9     This place was good but not amazing.Papaya sal...\n",
       "10    Incredibly fun atmosphere for any occasion, be...\n",
       "11    This is one of the best Thai restaurants I hav...\n",
       "12    This restaurant is simply amazing!!! From the ...\n",
       "13    True rating: 4.5Here's the breakdown:1. The ne...\n",
       "14    A bit of a hole-in-the-wall -- in a good way!S...\n",
       "15    Pretty good! Got the combo beef stew. The only...\n",
       "16    I couldnt even tell what kind of food they hav...\n",
       "17    Only had take out (ordered ahead on Yelp) from...\n",
       "18    The food was pretty good, the environment nice...\n",
       "19    A coworker and I stopped at Osha Thai on a lun...\n",
       "20    A bit of a hole-in-the-wall -- in a good way!S...\n",
       "21    Pretty good! Got the combo beef stew. The only...\n",
       "22    Dish: Angel WingsCost: $9.50Rating: 3.75/5Revi...\n",
       "23    This may be my new neighborhood Thai restauran...\n",
       "24    Yay! It's good. Near the Davies Symphony Hall ...\n",
       "25    Got the Eggplant with rice lunch special (with...\n",
       "26    I am super impressed with this place. It was h...\n",
       "27    Ordered delivery from here. Food arrived fresh...\n",
       "28    Champas is a staple for us when we visit SF. T...\n",
       "29    Amazing food, service, aesthetics and ambience...\n",
       "30    I've moved up to The Bay from LA recently. I w...\n",
       "31    Jitlada is a small hole in the wall that mustn...\n",
       "32    This place is a hidden gem! It is so affordabl...\n",
       "33    I've been to this restaurant years ago, but ju...\n",
       "34    I was having dinner at a girlfriend's house am...\n",
       "35    Was in San Francisco craving Thai food and dec...\n",
       "36    This is my go-to place when I am at home and I...\n",
       "37    I've walked into this restaurant a few times o...\n",
       "38    Great Thai food for takeout. They cover all th...\n",
       "39    2 Bacardi Mojitos Thai iced teaGlow grab GAi g...\n",
       "40    So happy to have found this place. Everything ...\n",
       "41    Yum!!! I love this Thai place! The dishes are ...\n",
       "42    What a gem of a restaurant, an intimate space ...\n",
       "43    We came here before a movie at AMC Kabuki on a...\n",
       "44    We just saw this spot accidentally on our way ...\n",
       "45    This review is mostly for their ROTI WITH ICE ...\n",
       "Name: reviews, dtype: object"
      ]
     },
     "execution_count": 14,
     "metadata": {},
     "output_type": "execute_result"
    }
   ],
   "source": [
    "# Analysing 'reviews'\n",
    "df['reviews']"
   ]
  },
  {
   "cell_type": "code",
   "execution_count": 15,
   "metadata": {},
   "outputs": [],
   "source": [
    "#Appending Sentiments Scores to the restaurants\n",
    "sentiments = []\n",
    "sid = SentimentIntensityAnalyzer()\n",
    "for i in range(df.shape[0]):\n",
    "        line = df['reviews'].iloc[i]\n",
    "        sentiment = sid.polarity_scores(line)\n",
    "        sentiments.append([sentiment['neg'], sentiment['pos'],\n",
    "                           sentiment['neu'], sentiment['compound']])\n",
    "df[['neg', 'pos', 'neu', 'compound']] = pd.DataFrame(sentiments)\n",
    "#df['Negative'] = df['compound'] < -0.1\n",
    "#df['Positive'] = df['compound'] > 0.1"
   ]
  },
  {
   "cell_type": "code",
   "execution_count": 16,
   "metadata": {},
   "outputs": [
    {
     "data": {
      "text/html": [
       "<div>\n",
       "<style scoped>\n",
       "    .dataframe tbody tr th:only-of-type {\n",
       "        vertical-align: middle;\n",
       "    }\n",
       "\n",
       "    .dataframe tbody tr th {\n",
       "        vertical-align: top;\n",
       "    }\n",
       "\n",
       "    .dataframe thead th {\n",
       "        text-align: right;\n",
       "    }\n",
       "</style>\n",
       "<table border=\"1\" class=\"dataframe\">\n",
       "  <thead>\n",
       "    <tr style=\"text-align: right;\">\n",
       "      <th></th>\n",
       "      <th>name</th>\n",
       "      <th>review_count</th>\n",
       "      <th>rating</th>\n",
       "      <th>price</th>\n",
       "      <th>category</th>\n",
       "      <th>reviews</th>\n",
       "      <th>neg</th>\n",
       "      <th>pos</th>\n",
       "      <th>neu</th>\n",
       "      <th>compound</th>\n",
       "    </tr>\n",
       "  </thead>\n",
       "  <tbody>\n",
       "    <tr>\n",
       "      <th>43</th>\n",
       "      <td>Sweet Lime Thai Cuisine</td>\n",
       "      <td>427</td>\n",
       "      <td>4.0</td>\n",
       "      <td>$$</td>\n",
       "      <td>Thai</td>\n",
       "      <td>We came here before a movie at AMC Kabuki on a...</td>\n",
       "      <td>0.035</td>\n",
       "      <td>0.200</td>\n",
       "      <td>0.765</td>\n",
       "      <td>0.9999</td>\n",
       "    </tr>\n",
       "    <tr>\n",
       "      <th>44</th>\n",
       "      <td>Vanida Thai Kitchen</td>\n",
       "      <td>422</td>\n",
       "      <td>3.5</td>\n",
       "      <td>$$</td>\n",
       "      <td>Thai</td>\n",
       "      <td>We just saw this spot accidentally on our way ...</td>\n",
       "      <td>0.056</td>\n",
       "      <td>0.174</td>\n",
       "      <td>0.771</td>\n",
       "      <td>0.9997</td>\n",
       "    </tr>\n",
       "    <tr>\n",
       "      <th>45</th>\n",
       "      <td>Amphawa</td>\n",
       "      <td>407</td>\n",
       "      <td>4.0</td>\n",
       "      <td>$$</td>\n",
       "      <td>Thai</td>\n",
       "      <td>This review is mostly for their ROTI WITH ICE ...</td>\n",
       "      <td>0.067</td>\n",
       "      <td>0.189</td>\n",
       "      <td>0.745</td>\n",
       "      <td>0.9998</td>\n",
       "    </tr>\n",
       "  </tbody>\n",
       "</table>\n",
       "</div>"
      ],
      "text/plain": [
       "                       name  review_count  rating price category  \\\n",
       "43  Sweet Lime Thai Cuisine           427     4.0    $$     Thai   \n",
       "44      Vanida Thai Kitchen           422     3.5    $$     Thai   \n",
       "45                  Amphawa           407     4.0    $$     Thai   \n",
       "\n",
       "                                              reviews    neg    pos    neu  \\\n",
       "43  We came here before a movie at AMC Kabuki on a...  0.035  0.200  0.765   \n",
       "44  We just saw this spot accidentally on our way ...  0.056  0.174  0.771   \n",
       "45  This review is mostly for their ROTI WITH ICE ...  0.067  0.189  0.745   \n",
       "\n",
       "    compound  \n",
       "43    0.9999  \n",
       "44    0.9997  \n",
       "45    0.9998  "
      ]
     },
     "execution_count": 16,
     "metadata": {},
     "output_type": "execute_result"
    }
   ],
   "source": [
    "df.tail(3)"
   ]
  },
  {
   "cell_type": "code",
   "execution_count": 17,
   "metadata": {},
   "outputs": [
    {
     "data": {
      "text/plain": [
       "<matplotlib.axes._subplots.AxesSubplot at 0x2c22f69ed30>"
      ]
     },
     "execution_count": 17,
     "metadata": {},
     "output_type": "execute_result"
    },
    {
     "data": {
      "image/png": "[encoded data removed]",
      "text/plain": [
       "<Figure size 432x288 with 2 Axes>"
      ]
     },
     "metadata": {},
     "output_type": "display_data"
    }
   ],
   "source": [
    "sns.heatmap(df.corr(),annot=True)"
   ]
  },
  {
   "cell_type": "markdown",
   "metadata": {},
   "source": [
    "#### The rating is positively correlated with the positive sentiment and negatively correlated with the negative sentiment. The Thai restaurant  can reasonably represent the perception of a restaurant as is expressed in the reviews. However, the correlation between review count and rating is inconclusive."
   ]
  },
  {
   "cell_type": "code",
   "execution_count": null,
   "metadata": {},
   "outputs": [],
   "source": []
  }
 ],
 "metadata": {
  "kernelspec": {
   "display_name": "Python 3",
   "language": "python",
   "name": "python3"
  },
  "language_info": {
   "codemirror_mode": {
    "name": "ipython",
    "version": 3
   },
   "file_extension": ".py",
   "mimetype": "text/x-python",
   "name": "python",
   "nbconvert_exporter": "python",
   "pygments_lexer": "ipython3",
   "version": "3.6.5"
  }
 },
 "nbformat": 4,
 "nbformat_minor": 2
}
