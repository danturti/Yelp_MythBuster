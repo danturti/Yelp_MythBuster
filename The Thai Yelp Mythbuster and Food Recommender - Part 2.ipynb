{
 "cells": [
  {
   "cell_type": "markdown",
   "metadata": {},
   "source": [
    "# The Thai Yelp Mythbuster and Food Recommender - Part 2"
   ]
  },
  {
   "cell_type": "code",
   "execution_count": 1,
   "metadata": {},
   "outputs": [],
   "source": [
    "import pandas as pd\n",
    "import numpy as np\n",
    "from matplotlib import pyplot as plt\n",
    "import seaborn as sns\n",
    "\n",
    "%matplotlib inline"
   ]
  },
  {
   "cell_type": "markdown",
   "metadata": {},
   "source": [
    "## Data Loading and EDA - master(granular) data-set (individual reviews)"
   ]
  },
  {
   "cell_type": "code",
   "execution_count": 2,
   "metadata": {},
   "outputs": [],
   "source": [
    "#Loading data-set of all the restaurants with the reviews(granular yelp-data set; from scrapy)\n",
    "df = pd.read_csv('./yelp/yelp_thai_clean.csv')"
   ]
  },
  {
   "cell_type": "code",
   "execution_count": 3,
   "metadata": {},
   "outputs": [
    {
     "data": {
      "text/plain": [
       "(18948, 6)"
      ]
     },
     "execution_count": 3,
     "metadata": {},
     "output_type": "execute_result"
    }
   ],
   "source": [
    "df.shape"
   ]
  },
  {
   "cell_type": "code",
   "execution_count": 4,
   "metadata": {},
   "outputs": [
    {
     "data": {
      "text/html": [
       "<div>\n",
       "<style scoped>\n",
       "    .dataframe tbody tr th:only-of-type {\n",
       "        vertical-align: middle;\n",
       "    }\n",
       "\n",
       "    .dataframe tbody tr th {\n",
       "        vertical-align: top;\n",
       "    }\n",
       "\n",
       "    .dataframe thead th {\n",
       "        text-align: right;\n",
       "    }\n",
       "</style>\n",
       "<table border=\"1\" class=\"dataframe\">\n",
       "  <thead>\n",
       "    <tr style=\"text-align: right;\">\n",
       "      <th></th>\n",
       "      <th>address</th>\n",
       "      <th>date</th>\n",
       "      <th>price</th>\n",
       "      <th>rating</th>\n",
       "      <th>restaurant</th>\n",
       "      <th>text</th>\n",
       "    </tr>\n",
       "  </thead>\n",
       "  <tbody>\n",
       "    <tr>\n",
       "      <th>0</th>\n",
       "      <td>6057 Mission St, Daly City, CA 94014</td>\n",
       "      <td>04-03-2016</td>\n",
       "      <td>$</td>\n",
       "      <td>1</td>\n",
       "      <td>Thai Power Restaurant</td>\n",
       "      <td>Nancy whoever she is ...is very rude..we just ...</td>\n",
       "    </tr>\n",
       "    <tr>\n",
       "      <th>1</th>\n",
       "      <td>6057 Mission St, Daly City, CA 94014</td>\n",
       "      <td>2/15/2012</td>\n",
       "      <td>$</td>\n",
       "      <td>2</td>\n",
       "      <td>Thai Power Restaurant</td>\n",
       "      <td>When I walked in, I wasn't sure if this place ...</td>\n",
       "    </tr>\n",
       "    <tr>\n",
       "      <th>2</th>\n",
       "      <td>6057 Mission St, Daly City, CA 94014</td>\n",
       "      <td>11-08-2015</td>\n",
       "      <td>$</td>\n",
       "      <td>1</td>\n",
       "      <td>Thai Power Restaurant</td>\n",
       "      <td>this place is the worst place resto bar that i...</td>\n",
       "    </tr>\n",
       "  </tbody>\n",
       "</table>\n",
       "</div>"
      ],
      "text/plain": [
       "                                address        date price  rating  \\\n",
       "0  6057 Mission St, Daly City, CA 94014  04-03-2016     $       1   \n",
       "1  6057 Mission St, Daly City, CA 94014   2/15/2012     $       2   \n",
       "2  6057 Mission St, Daly City, CA 94014  11-08-2015     $       1   \n",
       "\n",
       "              restaurant                                               text  \n",
       "0  Thai Power Restaurant  Nancy whoever she is ...is very rude..we just ...  \n",
       "1  Thai Power Restaurant  When I walked in, I wasn't sure if this place ...  \n",
       "2  Thai Power Restaurant  this place is the worst place resto bar that i...  "
      ]
     },
     "execution_count": 4,
     "metadata": {},
     "output_type": "execute_result"
    }
   ],
   "source": [
    "df.head(3)"
   ]
  },
  {
   "cell_type": "code",
   "execution_count": 5,
   "metadata": {},
   "outputs": [
    {
     "data": {
      "text/plain": [
       "{dtype('int64'): Index(['rating'], dtype='object'),\n",
       " dtype('O'): Index(['address', 'date', 'price', 'restaurant', 'text'], dtype='object')}"
      ]
     },
     "execution_count": 5,
     "metadata": {},
     "output_type": "execute_result"
    }
   ],
   "source": [
    "df.columns.to_series().groupby(df.dtypes).groups"
   ]
  },
  {
   "cell_type": "code",
   "execution_count": 6,
   "metadata": {},
   "outputs": [
    {
     "data": {
      "text/plain": [
       "address       object\n",
       "date          object\n",
       "price         object\n",
       "rating         int64\n",
       "restaurant    object\n",
       "text          object\n",
       "dtype: object"
      ]
     },
     "execution_count": 6,
     "metadata": {},
     "output_type": "execute_result"
    }
   ],
   "source": [
    "df.dtypes"
   ]
  },
  {
   "cell_type": "code",
   "execution_count": 7,
   "metadata": {},
   "outputs": [],
   "source": [
    "df['price'] = df['price'].apply(lambda x: len(x))"
   ]
  },
  {
   "cell_type": "code",
   "execution_count": 8,
   "metadata": {},
   "outputs": [
    {
     "data": {
      "text/html": [
       "<div>\n",
       "<style scoped>\n",
       "    .dataframe tbody tr th:only-of-type {\n",
       "        vertical-align: middle;\n",
       "    }\n",
       "\n",
       "    .dataframe tbody tr th {\n",
       "        vertical-align: top;\n",
       "    }\n",
       "\n",
       "    .dataframe thead th {\n",
       "        text-align: right;\n",
       "    }\n",
       "</style>\n",
       "<table border=\"1\" class=\"dataframe\">\n",
       "  <thead>\n",
       "    <tr style=\"text-align: right;\">\n",
       "      <th></th>\n",
       "      <th>address</th>\n",
       "      <th>date</th>\n",
       "      <th>price</th>\n",
       "      <th>rating</th>\n",
       "      <th>restaurant</th>\n",
       "      <th>text</th>\n",
       "    </tr>\n",
       "  </thead>\n",
       "  <tbody>\n",
       "    <tr>\n",
       "      <th>0</th>\n",
       "      <td>6057 Mission St, Daly City, CA 94014</td>\n",
       "      <td>04-03-2016</td>\n",
       "      <td>1</td>\n",
       "      <td>1</td>\n",
       "      <td>Thai Power Restaurant</td>\n",
       "      <td>Nancy whoever she is ...is very rude..we just ...</td>\n",
       "    </tr>\n",
       "    <tr>\n",
       "      <th>1</th>\n",
       "      <td>6057 Mission St, Daly City, CA 94014</td>\n",
       "      <td>2/15/2012</td>\n",
       "      <td>1</td>\n",
       "      <td>2</td>\n",
       "      <td>Thai Power Restaurant</td>\n",
       "      <td>When I walked in, I wasn't sure if this place ...</td>\n",
       "    </tr>\n",
       "    <tr>\n",
       "      <th>2</th>\n",
       "      <td>6057 Mission St, Daly City, CA 94014</td>\n",
       "      <td>11-08-2015</td>\n",
       "      <td>1</td>\n",
       "      <td>1</td>\n",
       "      <td>Thai Power Restaurant</td>\n",
       "      <td>this place is the worst place resto bar that i...</td>\n",
       "    </tr>\n",
       "  </tbody>\n",
       "</table>\n",
       "</div>"
      ],
      "text/plain": [
       "                                address        date  price  rating  \\\n",
       "0  6057 Mission St, Daly City, CA 94014  04-03-2016      1       1   \n",
       "1  6057 Mission St, Daly City, CA 94014   2/15/2012      1       2   \n",
       "2  6057 Mission St, Daly City, CA 94014  11-08-2015      1       1   \n",
       "\n",
       "              restaurant                                               text  \n",
       "0  Thai Power Restaurant  Nancy whoever she is ...is very rude..we just ...  \n",
       "1  Thai Power Restaurant  When I walked in, I wasn't sure if this place ...  \n",
       "2  Thai Power Restaurant  this place is the worst place resto bar that i...  "
      ]
     },
     "execution_count": 8,
     "metadata": {},
     "output_type": "execute_result"
    }
   ],
   "source": [
    "df.head(3)"
   ]
  },
  {
   "cell_type": "code",
   "execution_count": 9,
   "metadata": {},
   "outputs": [
    {
     "data": {
      "text/plain": [
       "address       0\n",
       "date          0\n",
       "price         0\n",
       "rating        0\n",
       "restaurant    0\n",
       "text          0\n",
       "dtype: int64"
      ]
     },
     "execution_count": 9,
     "metadata": {},
     "output_type": "execute_result"
    }
   ],
   "source": [
    "df.isnull().sum()"
   ]
  },
  {
   "cell_type": "code",
   "execution_count": 10,
   "metadata": {},
   "outputs": [
    {
     "data": {
      "text/html": [
       "<div>\n",
       "<style scoped>\n",
       "    .dataframe tbody tr th:only-of-type {\n",
       "        vertical-align: middle;\n",
       "    }\n",
       "\n",
       "    .dataframe tbody tr th {\n",
       "        vertical-align: top;\n",
       "    }\n",
       "\n",
       "    .dataframe thead tr th {\n",
       "        text-align: left;\n",
       "    }\n",
       "\n",
       "    .dataframe thead tr:last-of-type th {\n",
       "        text-align: right;\n",
       "    }\n",
       "</style>\n",
       "<table border=\"1\" class=\"dataframe\">\n",
       "  <thead>\n",
       "    <tr>\n",
       "      <th></th>\n",
       "      <th></th>\n",
       "      <th>text</th>\n",
       "      <th colspan=\"2\" halign=\"left\">rating</th>\n",
       "    </tr>\n",
       "    <tr>\n",
       "      <th></th>\n",
       "      <th></th>\n",
       "      <th>count</th>\n",
       "      <th>mean</th>\n",
       "      <th>std</th>\n",
       "    </tr>\n",
       "    <tr>\n",
       "      <th>restaurant</th>\n",
       "      <th>address</th>\n",
       "      <th></th>\n",
       "      <th></th>\n",
       "      <th></th>\n",
       "    </tr>\n",
       "  </thead>\n",
       "  <tbody>\n",
       "    <tr>\n",
       "      <th>Marnee Thai</th>\n",
       "      <th>2225 Irving St, San Francisco, CA 94122</th>\n",
       "      <td>760</td>\n",
       "      <td>3.736842</td>\n",
       "      <td>1.276817</td>\n",
       "    </tr>\n",
       "    <tr>\n",
       "      <th>King Of Thai Noodle House</th>\n",
       "      <th>184 O'Farrell St, San Francisco, CA 94102</th>\n",
       "      <td>702</td>\n",
       "      <td>3.300570</td>\n",
       "      <td>1.237537</td>\n",
       "    </tr>\n",
       "    <tr>\n",
       "      <th>Banana Island</th>\n",
       "      <th>273 Lake Merced Blvd, Daly City, CA 94015</th>\n",
       "      <td>700</td>\n",
       "      <td>3.421429</td>\n",
       "      <td>1.096671</td>\n",
       "    </tr>\n",
       "    <tr>\n",
       "      <th>Basil Thai Restaurant &amp; Bar</th>\n",
       "      <th>1175 Folsom St, San Francisco, CA 94103</th>\n",
       "      <td>660</td>\n",
       "      <td>3.859091</td>\n",
       "      <td>1.011238</td>\n",
       "    </tr>\n",
       "    <tr>\n",
       "      <th>Bangkok Garden Thai Cuisine</th>\n",
       "      <th>201 Southgate Ave, Daly City, CA 94015</th>\n",
       "      <td>567</td>\n",
       "      <td>3.439153</td>\n",
       "      <td>1.230969</td>\n",
       "    </tr>\n",
       "    <tr>\n",
       "      <th>Thai House Express</th>\n",
       "      <th>599 Castro St, San Francisco, CA 94114</th>\n",
       "      <td>530</td>\n",
       "      <td>3.515094</td>\n",
       "      <td>1.222334</td>\n",
       "    </tr>\n",
       "    <tr>\n",
       "      <th>Chabaa Thai Cuisine</th>\n",
       "      <th>420 Geary St, San Francisco, CA 94102</th>\n",
       "      <td>520</td>\n",
       "      <td>3.728846</td>\n",
       "      <td>1.184979</td>\n",
       "    </tr>\n",
       "    <tr>\n",
       "      <th>Koh Samui &amp; The Monkey</th>\n",
       "      <th>415 Brannan St, San Francisco, CA 94107</th>\n",
       "      <td>519</td>\n",
       "      <td>3.356455</td>\n",
       "      <td>1.101995</td>\n",
       "    </tr>\n",
       "    <tr>\n",
       "      <th>Osha Thai</th>\n",
       "      <th>311 3rd St, San Francisco, CA 94107</th>\n",
       "      <td>460</td>\n",
       "      <td>3.384783</td>\n",
       "      <td>1.183486</td>\n",
       "    </tr>\n",
       "    <tr>\n",
       "      <th>Thep Phanom Thai Restaurant</th>\n",
       "      <th>400 Waller St, San Francisco, CA 94117</th>\n",
       "      <td>409</td>\n",
       "      <td>3.657702</td>\n",
       "      <td>1.234788</td>\n",
       "    </tr>\n",
       "  </tbody>\n",
       "</table>\n",
       "</div>"
      ],
      "text/plain": [
       "                                                                       text  \\\n",
       "                                                                      count   \n",
       "restaurant                  address                                           \n",
       "Marnee Thai                 2225 Irving St, San Francisco, CA 94122     760   \n",
       "King Of Thai Noodle House   184 O'Farrell St, San Francisco, CA 94102   702   \n",
       "Banana Island               273 Lake Merced Blvd, Daly City, CA 94015   700   \n",
       "Basil Thai Restaurant & Bar 1175 Folsom St, San Francisco, CA 94103     660   \n",
       "Bangkok Garden Thai Cuisine 201 Southgate Ave, Daly City, CA 94015      567   \n",
       "Thai House Express          599 Castro St, San Francisco, CA 94114      530   \n",
       "Chabaa Thai Cuisine         420 Geary St, San Francisco, CA 94102       520   \n",
       "Koh Samui & The Monkey      415 Brannan St, San Francisco, CA 94107     519   \n",
       "Osha Thai                   311 3rd St, San Francisco, CA 94107         460   \n",
       "Thep Phanom Thai Restaurant 400 Waller St, San Francisco, CA 94117      409   \n",
       "\n",
       "                                                                         rating  \\\n",
       "                                                                           mean   \n",
       "restaurant                  address                                               \n",
       "Marnee Thai                 2225 Irving St, San Francisco, CA 94122    3.736842   \n",
       "King Of Thai Noodle House   184 O'Farrell St, San Francisco, CA 94102  3.300570   \n",
       "Banana Island               273 Lake Merced Blvd, Daly City, CA 94015  3.421429   \n",
       "Basil Thai Restaurant & Bar 1175 Folsom St, San Francisco, CA 94103    3.859091   \n",
       "Bangkok Garden Thai Cuisine 201 Southgate Ave, Daly City, CA 94015     3.439153   \n",
       "Thai House Express          599 Castro St, San Francisco, CA 94114     3.515094   \n",
       "Chabaa Thai Cuisine         420 Geary St, San Francisco, CA 94102      3.728846   \n",
       "Koh Samui & The Monkey      415 Brannan St, San Francisco, CA 94107    3.356455   \n",
       "Osha Thai                   311 3rd St, San Francisco, CA 94107        3.384783   \n",
       "Thep Phanom Thai Restaurant 400 Waller St, San Francisco, CA 94117     3.657702   \n",
       "\n",
       "                                                                                 \n",
       "                                                                            std  \n",
       "restaurant                  address                                              \n",
       "Marnee Thai                 2225 Irving St, San Francisco, CA 94122    1.276817  \n",
       "King Of Thai Noodle House   184 O'Farrell St, San Francisco, CA 94102  1.237537  \n",
       "Banana Island               273 Lake Merced Blvd, Daly City, CA 94015  1.096671  \n",
       "Basil Thai Restaurant & Bar 1175 Folsom St, San Francisco, CA 94103    1.011238  \n",
       "Bangkok Garden Thai Cuisine 201 Southgate Ave, Daly City, CA 94015     1.230969  \n",
       "Thai House Express          599 Castro St, San Francisco, CA 94114     1.222334  \n",
       "Chabaa Thai Cuisine         420 Geary St, San Francisco, CA 94102      1.184979  \n",
       "Koh Samui & The Monkey      415 Brannan St, San Francisco, CA 94107    1.101995  \n",
       "Osha Thai                   311 3rd St, San Francisco, CA 94107        1.183486  \n",
       "Thep Phanom Thai Restaurant 400 Waller St, San Francisco, CA 94117     1.234788  "
      ]
     },
     "execution_count": 10,
     "metadata": {},
     "output_type": "execute_result"
    }
   ],
   "source": [
    "df.groupby(['restaurant', 'address']).agg({'text': ['count'], 'rating': ['mean', 'std']}).sort_values(('text', 'count'), ascending = False).head(10)"
   ]
  },
  {
   "cell_type": "code",
   "execution_count": 11,
   "metadata": {},
   "outputs": [
    {
     "data": {
      "text/plain": [
       "Text(0,0.5,'rating')"
      ]
     },
     "execution_count": 11,
     "metadata": {},
     "output_type": "execute_result"
    },
    {
     "data": {
      "image/png": "[encoded data removed]",
      "text/plain": [
       "<Figure size 432x288 with 1 Axes>"
      ]
     },
     "metadata": {},
     "output_type": "display_data"
    }
   ],
   "source": [
    "#Analyzing the scatter distribution between rating v/s price\n",
    "plt.scatter(df['price'], df['rating'])\n",
    "plt.xlabel('price')\n",
    "plt.ylabel('rating')"
   ]
  },
  {
   "cell_type": "code",
   "execution_count": 12,
   "metadata": {},
   "outputs": [],
   "source": [
    "#df.loc[df.price==3,:]"
   ]
  },
  {
   "cell_type": "code",
   "execution_count": 13,
   "metadata": {},
   "outputs": [
    {
     "data": {
      "text/plain": [
       "Text(0.5,0,'rating')"
      ]
     },
     "execution_count": 13,
     "metadata": {},
     "output_type": "execute_result"
    },
    {
     "data": {
      "image/png": "[encoded data removed]",
      "text/plain": [
       "<Figure size 432x288 with 1 Axes>"
      ]
     },
     "metadata": {},
     "output_type": "display_data"
    }
   ],
   "source": [
    "# Histogram of ratings(frequency)\n",
    "df['rating'].plot(kind='hist')\n",
    "plt.xlabel('rating')"
   ]
  },
  {
   "cell_type": "code",
   "execution_count": 14,
   "metadata": {},
   "outputs": [
    {
     "name": "stderr",
     "output_type": "stream",
     "text": [
      "C:\\Users\\dabhi\\Anaconda3\\lib\\site-packages\\scipy\\stats\\stats.py:1713: FutureWarning: Using a non-tuple sequence for multidimensional indexing is deprecated; use `arr[tuple(seq)]` instead of `arr[seq]`. In the future this will be interpreted as an array index, `arr[np.array(seq)]`, which will result either in an error or a different result.\n",
      "  return np.add.reduce(sorted[indexer] * weights, axis=axis) / sumval\n"
     ]
    },
    {
     "data": {
      "text/plain": [
       "<seaborn.axisgrid.FacetGrid at 0x1ccd8502240>"
      ]
     },
     "execution_count": 14,
     "metadata": {},
     "output_type": "execute_result"
    },
    {
     "data": {
      "image/png": "[encoded data removed]",
      "text/plain": [
       "<Figure size 360x360 with 1 Axes>"
      ]
     },
     "metadata": {},
     "output_type": "display_data"
    }
   ],
   "source": [
    "# Looking at the linear relation b/w rating and price - inconclusive\n",
    "sns.lmplot(\"price\", \"rating\", df)"
   ]
  },
  {
   "cell_type": "code",
   "execution_count": 16,
   "metadata": {},
   "outputs": [
    {
     "name": "stderr",
     "output_type": "stream",
     "text": [
      "C:\\Users\\dabhi\\Anaconda3\\lib\\site-packages\\nltk\\twitter\\__init__.py:20: UserWarning: The twython library has not been installed. Some functionality from the twitter package will not be available.\n",
      "  warnings.warn(\"The twython library has not been installed. \"\n"
     ]
    }
   ],
   "source": [
    "from nltk.sentiment.vader import SentimentIntensityAnalyzer\n",
    "from nltk import tokenize\n",
    "sid = SentimentIntensityAnalyzer()\n",
    "# sentiment analysis on reviews for EDA\n",
    "sentiments = []\n",
    "sid = SentimentIntensityAnalyzer()\n",
    "for i in range(df.shape[0]):\n",
    "        line = df['text'].iloc[i]\n",
    "        sentiment = sid.polarity_scores(line)\n",
    "        sentiments.append([sentiment['neg'], sentiment['pos'],\n",
    "                           sentiment['neu'], sentiment['compound']])\n",
    "df[['neg', 'pos', 'neu', 'compound']] = pd.DataFrame(sentiments)"
   ]
  },
  {
   "cell_type": "code",
   "execution_count": 17,
   "metadata": {},
   "outputs": [
    {
     "name": "stderr",
     "output_type": "stream",
     "text": [
      "C:\\Users\\dabhi\\Anaconda3\\lib\\site-packages\\scipy\\stats\\stats.py:1713: FutureWarning: Using a non-tuple sequence for multidimensional indexing is deprecated; use `arr[tuple(seq)]` instead of `arr[seq]`. In the future this will be interpreted as an array index, `arr[np.array(seq)]`, which will result either in an error or a different result.\n",
      "  return np.add.reduce(sorted[indexer] * weights, axis=axis) / sumval\n"
     ]
    },
    {
     "data": {
      "text/plain": [
       "<seaborn.axisgrid.FacetGrid at 0x1ccda876ef0>"
      ]
     },
     "execution_count": 17,
     "metadata": {},
     "output_type": "execute_result"
    },
    {
     "data": {
      "image/png": "[encoded data removed]",
      "text/plain": [
       "<Figure size 360x360 with 1 Axes>"
      ]
     },
     "metadata": {},
     "output_type": "display_data"
    }
   ],
   "source": [
    "# Looking at the linear relation b/w rating and pos_sentiment - positive correlation\n",
    "sns.lmplot(\"rating\", \"pos\", df)"
   ]
  },
  {
   "cell_type": "code",
   "execution_count": 18,
   "metadata": {},
   "outputs": [
    {
     "name": "stderr",
     "output_type": "stream",
     "text": [
      "C:\\Users\\dabhi\\Anaconda3\\lib\\site-packages\\scipy\\stats\\stats.py:1713: FutureWarning: Using a non-tuple sequence for multidimensional indexing is deprecated; use `arr[tuple(seq)]` instead of `arr[seq]`. In the future this will be interpreted as an array index, `arr[np.array(seq)]`, which will result either in an error or a different result.\n",
      "  return np.add.reduce(sorted[indexer] * weights, axis=axis) / sumval\n"
     ]
    },
    {
     "data": {
      "text/plain": [
       "<seaborn.axisgrid.FacetGrid at 0x1ccdad0e8d0>"
      ]
     },
     "execution_count": 18,
     "metadata": {},
     "output_type": "execute_result"
    },
    {
     "data": {
      "image/png": "[encoded data removed]",
      "text/plain": [
       "<Figure size 360x360 with 1 Axes>"
      ]
     },
     "metadata": {},
     "output_type": "display_data"
    }
   ],
   "source": [
    "# Looking at the linear relation b/w price and pos_sentiment - inconclusive\n",
    "sns.lmplot(\"price\", \"pos\", df)"
   ]
  },
  {
   "cell_type": "code",
   "execution_count": 19,
   "metadata": {},
   "outputs": [
    {
     "name": "stderr",
     "output_type": "stream",
     "text": [
      "C:\\Users\\dabhi\\Anaconda3\\lib\\site-packages\\scipy\\stats\\stats.py:1713: FutureWarning: Using a non-tuple sequence for multidimensional indexing is deprecated; use `arr[tuple(seq)]` instead of `arr[seq]`. In the future this will be interpreted as an array index, `arr[np.array(seq)]`, which will result either in an error or a different result.\n",
      "  return np.add.reduce(sorted[indexer] * weights, axis=axis) / sumval\n"
     ]
    },
    {
     "data": {
      "text/plain": [
       "<seaborn.axisgrid.FacetGrid at 0x1ccdacfdac8>"
      ]
     },
     "execution_count": 19,
     "metadata": {},
     "output_type": "execute_result"
    },
    {
     "data": {
      "image/png": "[encoded data removed]",
      "text/plain": [
       "<Figure size 360x360 with 1 Axes>"
      ]
     },
     "metadata": {},
     "output_type": "display_data"
    }
   ],
   "source": [
    "# Looking at the linear relation b/w rating and neg_sentiment - negative correlation\n",
    "sns.lmplot(\"rating\", \"neg\", df)"
   ]
  },
  {
   "cell_type": "code",
   "execution_count": 20,
   "metadata": {},
   "outputs": [
    {
     "name": "stderr",
     "output_type": "stream",
     "text": [
      "C:\\Users\\dabhi\\Anaconda3\\lib\\site-packages\\scipy\\stats\\stats.py:1713: FutureWarning: Using a non-tuple sequence for multidimensional indexing is deprecated; use `arr[tuple(seq)]` instead of `arr[seq]`. In the future this will be interpreted as an array index, `arr[np.array(seq)]`, which will result either in an error or a different result.\n",
      "  return np.add.reduce(sorted[indexer] * weights, axis=axis) / sumval\n"
     ]
    },
    {
     "data": {
      "text/plain": [
       "<seaborn.axisgrid.FacetGrid at 0x1ccdaded240>"
      ]
     },
     "execution_count": 20,
     "metadata": {},
     "output_type": "execute_result"
    },
    {
     "data": {
      "image/png": "[encoded data removed]",
      "text/plain": [
       "<Figure size 360x360 with 1 Axes>"
      ]
     },
     "metadata": {},
     "output_type": "display_data"
    }
   ],
   "source": [
    "# Looking at the linear relation b/w price and neg_sentiment - inconclusive\n",
    "sns.lmplot(\"price\", \"neg\", df)"
   ]
  },
  {
   "cell_type": "code",
   "execution_count": 21,
   "metadata": {},
   "outputs": [
    {
     "data": {
      "text/plain": [
       "<matplotlib.axes._subplots.AxesSubplot at 0x1ccdae4f160>"
      ]
     },
     "execution_count": 21,
     "metadata": {},
     "output_type": "execute_result"
    },
    {
     "data": {
      "image/png": "[encoded data removed]",
      "text/plain": [
       "<Figure size 432x288 with 1 Axes>"
      ]
     },
     "metadata": {},
     "output_type": "display_data"
    }
   ],
   "source": [
    "# Analysing box-plot of ratings which show a bulk of ratings b/w 3 and 5\n",
    "sns.boxplot(x=df['rating'],  data=df)"
   ]
  },
  {
   "cell_type": "markdown",
   "metadata": {},
   "source": [
    "##  Classification Modelling"
   ]
  },
  {
   "cell_type": "markdown",
   "metadata": {},
   "source": [
    "#### We perform a classification modelling to check if we can predict a good/bad rating based on a review as a baseline before sentiment as the reviews contain all of our target(food) tokens. We vectorize the reviews using Count Vectorizer and TFIDF Vectorizer and run a Logistic Regression and a Naive Bayes Model"
   ]
  },
  {
   "cell_type": "code",
   "execution_count": 22,
   "metadata": {},
   "outputs": [
    {
     "data": {
      "text/plain": [
       "4    6543\n",
       "5    5500\n",
       "3    3279\n",
       "2    1904\n",
       "1    1722\n",
       "Name: rating, dtype: int64"
      ]
     },
     "execution_count": 22,
     "metadata": {},
     "output_type": "execute_result"
    }
   ],
   "source": [
    "# Getting value counts on the ratings\n",
    "df['rating'].value_counts()"
   ]
  },
  {
   "cell_type": "code",
   "execution_count": 23,
   "metadata": {},
   "outputs": [],
   "source": [
    "# Creating a binary classifier for rating>=4 as good, rating<4 as bad \n",
    "df['binary_rating'] = df['rating'].apply(lambda x:1 if x==4 or x==5 else 0)"
   ]
  },
  {
   "cell_type": "code",
   "execution_count": 24,
   "metadata": {},
   "outputs": [
    {
     "data": {
      "text/plain": [
       "1    12043\n",
       "0     6905\n",
       "Name: binary_rating, dtype: int64"
      ]
     },
     "execution_count": 24,
     "metadata": {},
     "output_type": "execute_result"
    }
   ],
   "source": [
    "# Checking for class imbalance\n",
    "df['binary_rating'].value_counts()"
   ]
  },
  {
   "cell_type": "code",
   "execution_count": 25,
   "metadata": {},
   "outputs": [],
   "source": [
    "# Setting our X(feature) and y(target)\n",
    "X = df['text']\n",
    "y = df['binary_rating']"
   ]
  },
  {
   "cell_type": "code",
   "execution_count": 26,
   "metadata": {},
   "outputs": [],
   "source": [
    "# Text Preprossing for modelling\n",
    "# import string\n",
    "# from nltk.corpus import stopwords\n",
    "\n",
    "# def text_process(text):\n",
    "#     '''\n",
    "#     Takes in a string of text, then performs the following:\n",
    "#     1. Remove all punctuation\n",
    "#     2. Remove all stopwords\n",
    "#     3. Return the cleaned text as a list of words\n",
    "#     '''\n",
    "#     nopunc = [char for char in text if char not in string.punctuation]\n",
    "#     nopunc = ''.join(nopunc)\n",
    "#     return [word for word in nopunc.split() if word.lower() not in stopwords.words('english')]"
   ]
  },
  {
   "cell_type": "code",
   "execution_count": 27,
   "metadata": {},
   "outputs": [],
   "source": [
    "from sklearn.feature_extraction.text import CountVectorizer, TfidfVectorizer"
   ]
  },
  {
   "cell_type": "code",
   "execution_count": 28,
   "metadata": {},
   "outputs": [],
   "source": [
    "cvec = CountVectorizer(stop_words='english').fit(X)\n",
    "tfidf = TfidfVectorizer(stop_words='english').fit(X)"
   ]
  },
  {
   "cell_type": "code",
   "execution_count": 29,
   "metadata": {},
   "outputs": [
    {
     "name": "stdout",
     "output_type": "stream",
     "text": [
      "24354\n",
      "24354\n"
     ]
    }
   ],
   "source": [
    "print(len(cvec.get_feature_names()))\n",
    "print(len(tfidf.get_feature_names()))"
   ]
  },
  {
   "cell_type": "code",
   "execution_count": 30,
   "metadata": {},
   "outputs": [],
   "source": [
    "X1 = cvec.transform(X)\n",
    "X2 = tfidf.transform(X)"
   ]
  },
  {
   "cell_type": "code",
   "execution_count": 31,
   "metadata": {},
   "outputs": [
    {
     "data": {
      "text/plain": [
       "dtype('int64')"
      ]
     },
     "execution_count": 31,
     "metadata": {},
     "output_type": "execute_result"
    }
   ],
   "source": [
    "X1.dtype"
   ]
  },
  {
   "cell_type": "code",
   "execution_count": 32,
   "metadata": {},
   "outputs": [],
   "source": [
    "# Performing a train-test split\n",
    "from sklearn.model_selection import train_test_split\n",
    "X1_train,X1_test,y1_train,y1_test = train_test_split(X1,y,shuffle=True,stratify=y,random_state=42,test_size=0.3)\n",
    "X2_train,X2_test,y2_train,y2_test = train_test_split(X2,y,shuffle=True,stratify=y,random_state=42,test_size=0.3)"
   ]
  },
  {
   "cell_type": "markdown",
   "metadata": {},
   "source": [
    "#### Resampling Train Data Set"
   ]
  },
  {
   "cell_type": "code",
   "execution_count": 33,
   "metadata": {},
   "outputs": [],
   "source": [
    "# from sklearn.utils import resample\n",
    "# traindata = X_train.to_frame().merge(pd.DataFrame(y_train), how = 'left', right_index = True, left_index = True)\n",
    "# train_majority = traindata[traindata['binary_rating'] == 1]\n",
    "# train_minority = traindata[traindata['binary_rating'] == 0]\n",
    "# train_minority_upsampled = resample(train_minority, \n",
    "#                                      replace = True, \n",
    "#                                      n_samples = train_majority.shape[0],\n",
    "#                                      random_state = 42)\n",
    "\n",
    "# train_data_upsampled = pd.concat([train_majority, train_minority_upsampled])\n",
    "# X_train = train_data_upsampled.drop(columns = 'binary_rating')\n",
    "# y_train = train_data_upsampled['binary_rating']\n",
    "# y_train.value_counts()"
   ]
  },
  {
   "cell_type": "code",
   "execution_count": 34,
   "metadata": {},
   "outputs": [],
   "source": [
    "from sklearn.linear_model import LogisticRegression\n",
    "from sklearn.naive_bayes import MultinomialNB\n",
    "from sklearn.metrics import accuracy_score\n",
    "from sklearn.metrics import confusion_matrix, classification_report"
   ]
  },
  {
   "cell_type": "markdown",
   "metadata": {},
   "source": [
    "### Count Vectorizer - Classification Modelling"
   ]
  },
  {
   "cell_type": "markdown",
   "metadata": {},
   "source": [
    "#### Logistic Regression"
   ]
  },
  {
   "cell_type": "code",
   "execution_count": 35,
   "metadata": {},
   "outputs": [
    {
     "name": "stdout",
     "output_type": "stream",
     "text": [
      "accuracy score 0.8490765171503958\n"
     ]
    }
   ],
   "source": [
    "lr = LogisticRegression()\n",
    "lr.fit(X1_train, y1_train)\n",
    "y1_pred = lr.predict(X1_test)\n",
    "print('accuracy score',accuracy_score(y1_test, y1_pred))"
   ]
  },
  {
   "cell_type": "code",
   "execution_count": 36,
   "metadata": {},
   "outputs": [
    {
     "name": "stdout",
     "output_type": "stream",
     "text": [
      "[[1566  506]\n",
      " [ 352 3261]]\n",
      "\n",
      "\n",
      "             precision    recall  f1-score   support\n",
      "\n",
      "          0       0.82      0.76      0.78      2072\n",
      "          1       0.87      0.90      0.88      3613\n",
      "\n",
      "avg / total       0.85      0.85      0.85      5685\n",
      "\n"
     ]
    }
   ],
   "source": [
    "# Confusion Matrix and Classification Report\n",
    "print(confusion_matrix(y1_test, y1_pred))\n",
    "print('\\n')\n",
    "print(classification_report(y1_test, y1_pred))"
   ]
  },
  {
   "cell_type": "markdown",
   "metadata": {},
   "source": [
    "#### Multinomial Naive Bayes"
   ]
  },
  {
   "cell_type": "code",
   "execution_count": 37,
   "metadata": {},
   "outputs": [
    {
     "name": "stdout",
     "output_type": "stream",
     "text": [
      "accuracy score 0.8316622691292876\n"
     ]
    }
   ],
   "source": [
    "nb = MultinomialNB()\n",
    "nb.fit(X1_train, y1_train)\n",
    "y1_pred = nb.predict(X1_test)\n",
    "print('accuracy score',accuracy_score(y1_test, y1_pred))"
   ]
  },
  {
   "cell_type": "code",
   "execution_count": 38,
   "metadata": {},
   "outputs": [
    {
     "name": "stdout",
     "output_type": "stream",
     "text": [
      "[[1420  652]\n",
      " [ 305 3308]]\n",
      "\n",
      "\n",
      "             precision    recall  f1-score   support\n",
      "\n",
      "          0       0.82      0.69      0.75      2072\n",
      "          1       0.84      0.92      0.87      3613\n",
      "\n",
      "avg / total       0.83      0.83      0.83      5685\n",
      "\n"
     ]
    }
   ],
   "source": [
    "# Confusion Matrix and Classification Report\n",
    "print(confusion_matrix(y1_test, y1_pred))\n",
    "print('\\n')\n",
    "print(classification_report(y1_test, y1_pred))"
   ]
  },
  {
   "cell_type": "markdown",
   "metadata": {},
   "source": [
    "### TFIDF Vectorizer - Classification Modelling "
   ]
  },
  {
   "cell_type": "markdown",
   "metadata": {},
   "source": [
    "#### Logistic Regression"
   ]
  },
  {
   "cell_type": "code",
   "execution_count": 39,
   "metadata": {},
   "outputs": [
    {
     "name": "stdout",
     "output_type": "stream",
     "text": [
      "accuracy score 0.8612137203166227\n"
     ]
    }
   ],
   "source": [
    "lr = LogisticRegression()\n",
    "lr.fit(X2_train, y2_train)\n",
    "y2_pred = lr.predict(X2_test)\n",
    "print('accuracy score',accuracy_score(y2_test, y2_pred))"
   ]
  },
  {
   "cell_type": "code",
   "execution_count": 40,
   "metadata": {},
   "outputs": [
    {
     "name": "stdout",
     "output_type": "stream",
     "text": [
      "[[1530  542]\n",
      " [ 247 3366]]\n",
      "\n",
      "\n",
      "             precision    recall  f1-score   support\n",
      "\n",
      "          0       0.86      0.74      0.80      2072\n",
      "          1       0.86      0.93      0.90      3613\n",
      "\n",
      "avg / total       0.86      0.86      0.86      5685\n",
      "\n"
     ]
    }
   ],
   "source": [
    "# Confusion Matrix and Classification Report\n",
    "print(confusion_matrix(y2_test, y2_pred))\n",
    "print('\\n')\n",
    "print(classification_report(y2_test, y2_pred))"
   ]
  },
  {
   "cell_type": "markdown",
   "metadata": {},
   "source": [
    "#### Multinomial Naive Bayes"
   ]
  },
  {
   "cell_type": "code",
   "execution_count": 41,
   "metadata": {},
   "outputs": [
    {
     "name": "stdout",
     "output_type": "stream",
     "text": [
      "accuracy score 0.7641160949868074\n"
     ]
    }
   ],
   "source": [
    "nb = MultinomialNB()\n",
    "nb.fit(X2_train, y2_train)\n",
    "y2_pred = nb.predict(X2_test)\n",
    "print('accuracy score',accuracy_score(y2_test, y2_pred))"
   ]
  },
  {
   "cell_type": "code",
   "execution_count": 42,
   "metadata": {},
   "outputs": [
    {
     "name": "stdout",
     "output_type": "stream",
     "text": [
      "[[ 761 1311]\n",
      " [  30 3583]]\n",
      "\n",
      "\n",
      "             precision    recall  f1-score   support\n",
      "\n",
      "          0       0.96      0.37      0.53      2072\n",
      "          1       0.73      0.99      0.84      3613\n",
      "\n",
      "avg / total       0.82      0.76      0.73      5685\n",
      "\n"
     ]
    }
   ],
   "source": [
    "# Confusion Matrix and Classification Report\n",
    "print(confusion_matrix(y2_test, y2_pred))\n",
    "print('\\n')\n",
    "print(classification_report(y2_test, y2_pred))"
   ]
  },
  {
   "cell_type": "markdown",
   "metadata": {},
   "source": [
    "### Unsupervised Word2Vec Modelling on tokens in the corpus - finding dishes to predict/relate"
   ]
  },
  {
   "cell_type": "markdown",
   "metadata": {},
   "source": [
    "#### The goal of word vector embedding models, or word vector models is to learn dense, numerical vector representations for each term in a corpus vocabulary. If the model is successful, the vectors it learns about each term should encode some information about the meaning or concept the term represents, and the relationship between it and other terms in the vocabulary. Word vector models are also fully unsupervised — they learn all of these meanings and relationships solely by analyzing the text of the corpus, without any advance knowledge provided."
   ]
  },
  {
   "cell_type": "code",
   "execution_count": 43,
   "metadata": {},
   "outputs": [
    {
     "name": "stderr",
     "output_type": "stream",
     "text": [
      "C:\\Users\\dabhi\\Anaconda3\\lib\\site-packages\\gensim\\utils.py:1212: UserWarning: detected Windows; aliasing chunkize to chunkize_serial\n",
      "  warnings.warn(\"detected Windows; aliasing chunkize to chunkize_serial\")\n"
     ]
    }
   ],
   "source": [
    "# Importing gensim and nltk packages\n",
    "import gensim\n",
    "from gensim.models import Word2Vec\n",
    "from gensim.models import word2vec\n",
    "from gensim.models import Phrases\n",
    "import nltk\n",
    "from nltk import word_tokenize\n",
    "from nltk.util import ngrams"
   ]
  },
  {
   "cell_type": "code",
   "execution_count": 44,
   "metadata": {},
   "outputs": [],
   "source": [
    "# Setting the text corpus as a list of individual reviews\n",
    "reviews_list = list(df.text)"
   ]
  },
  {
   "cell_type": "code",
   "execution_count": 45,
   "metadata": {},
   "outputs": [],
   "source": [
    "# tokenizing the words in the reviews - setting uni-grams\n",
    "sentences = [word_tokenize(x) for x in reviews_list]"
   ]
  },
  {
   "cell_type": "code",
   "execution_count": 46,
   "metadata": {},
   "outputs": [
    {
     "data": {
      "text/plain": [
       "(18948, 18948)"
      ]
     },
     "execution_count": 46,
     "metadata": {},
     "output_type": "execute_result"
    }
   ],
   "source": [
    "len(sentences), len(reviews_list)"
   ]
  },
  {
   "cell_type": "code",
   "execution_count": 47,
   "metadata": {},
   "outputs": [
    {
     "data": {
      "text/plain": [
       "<bound method Word2Vec.train of <gensim.models.word2vec.Word2Vec object at 0x000001CCEA17D2E8>>"
      ]
     },
     "execution_count": 47,
     "metadata": {},
     "output_type": "execute_result"
    }
   ],
   "source": [
    "# Creating a uni-gram Word2Vec model as a baseline\n",
    "model = gensim.models.Word2Vec(sentences)\n",
    "model.train"
   ]
  },
  {
   "cell_type": "markdown",
   "metadata": {},
   "source": [
    "#### Evaluating Cosine-Similarity for word-vectors"
   ]
  },
  {
   "cell_type": "code",
   "execution_count": 49,
   "metadata": {},
   "outputs": [
    {
     "name": "stderr",
     "output_type": "stream",
     "text": [
      "C:\\Users\\dabhi\\Anaconda3\\lib\\site-packages\\ipykernel_launcher.py:2: DeprecationWarning: Call to deprecated `most_similar` (Method will be removed in 4.0.0, use self.wv.most_similar() instead).\n",
      "  \n",
      "C:\\Users\\dabhi\\Anaconda3\\lib\\site-packages\\gensim\\matutils.py:737: FutureWarning: Conversion of the second argument of issubdtype from `int` to `np.signedinteger` is deprecated. In future, it will be treated as `np.int32 == np.dtype(int).type`.\n",
      "  if np.issubdtype(vec.dtype, np.int):\n"
     ]
    },
    {
     "data": {
      "text/plain": [
       "[('pork', 0.8100522756576538),\n",
       " ('beef', 0.8029353618621826),\n",
       " ('duck', 0.7751152515411377),\n",
       " ('tofu', 0.7536600232124329),\n",
       " ('lamb', 0.7050881385803223),\n",
       " ('seafood', 0.6905311346054077),\n",
       " ('shrimp', 0.6851808428764343),\n",
       " ('salmon', 0.6821611523628235),\n",
       " ('pineapple', 0.6722326278686523),\n",
       " ('prawns', 0.6600683927536011)]"
      ]
     },
     "execution_count": 49,
     "metadata": {},
     "output_type": "execute_result"
    }
   ],
   "source": [
    "# Testing token similarity with other words in the corpus\n",
    "model.most_similar('chicken')"
   ]
  },
  {
   "cell_type": "code",
   "execution_count": 50,
   "metadata": {},
   "outputs": [
    {
     "name": "stderr",
     "output_type": "stream",
     "text": [
      "C:\\Users\\dabhi\\Anaconda3\\lib\\site-packages\\ipykernel_launcher.py:2: DeprecationWarning: Call to deprecated `most_similar` (Method will be removed in 4.0.0, use self.wv.most_similar() instead).\n",
      "  \n",
      "C:\\Users\\dabhi\\Anaconda3\\lib\\site-packages\\gensim\\matutils.py:737: FutureWarning: Conversion of the second argument of issubdtype from `int` to `np.signedinteger` is deprecated. In future, it will be treated as `np.int32 == np.dtype(int).type`.\n",
      "  if np.issubdtype(vec.dtype, np.int):\n"
     ]
    },
    {
     "data": {
      "text/plain": [
       "[('broth', 0.7245975732803345),\n",
       " ('yum', 0.7034741640090942),\n",
       " ('tom', 0.6718325018882751),\n",
       " ('kha', 0.6384459733963013),\n",
       " ('soup.', 0.636489748954773),\n",
       " ('Kha', 0.6132684946060181),\n",
       " ('larb', 0.6084469556808472),\n",
       " ('Tom', 0.5928018093109131),\n",
       " ('dish', 0.5916653871536255),\n",
       " ('soup..', 0.5883266925811768)]"
      ]
     },
     "execution_count": 50,
     "metadata": {},
     "output_type": "execute_result"
    }
   ],
   "source": [
    "# Testing token similarity with other words in the corpus\n",
    "model.most_similar('soup')"
   ]
  },
  {
   "cell_type": "code",
   "execution_count": 51,
   "metadata": {},
   "outputs": [
    {
     "name": "stderr",
     "output_type": "stream",
     "text": [
      "C:\\Users\\dabhi\\Anaconda3\\lib\\site-packages\\ipykernel_launcher.py:2: DeprecationWarning: Call to deprecated `most_similar` (Method will be removed in 4.0.0, use self.wv.most_similar() instead).\n",
      "  \n",
      "C:\\Users\\dabhi\\Anaconda3\\lib\\site-packages\\gensim\\matutils.py:737: FutureWarning: Conversion of the second argument of issubdtype from `int` to `np.signedinteger` is deprecated. In future, it will be treated as `np.int32 == np.dtype(int).type`.\n",
      "  if np.issubdtype(vec.dtype, np.int):\n"
     ]
    },
    {
     "data": {
      "text/plain": [
       "[('tasty', 0.7946168780326843),\n",
       " ('decent', 0.7868320345878601),\n",
       " ('great', 0.7479759454727173),\n",
       " ('disappointing', 0.7454216480255127),\n",
       " ('yummy', 0.7215143442153931),\n",
       " ('good.', 0.7127177715301514),\n",
       " ('fantastic', 0.6944500207901001),\n",
       " ('amazing', 0.6847824454307556),\n",
       " ('solid', 0.683480978012085),\n",
       " ('awesome', 0.6705993413925171)]"
      ]
     },
     "execution_count": 51,
     "metadata": {},
     "output_type": "execute_result"
    }
   ],
   "source": [
    "# Testing token similarity with other words in the corpus\n",
    "model.most_similar('good')"
   ]
  },
  {
   "cell_type": "code",
   "execution_count": 52,
   "metadata": {},
   "outputs": [
    {
     "name": "stderr",
     "output_type": "stream",
     "text": [
      "C:\\Users\\dabhi\\Anaconda3\\lib\\site-packages\\ipykernel_launcher.py:2: DeprecationWarning: Call to deprecated `most_similar` (Method will be removed in 4.0.0, use self.wv.most_similar() instead).\n",
      "  \n",
      "C:\\Users\\dabhi\\Anaconda3\\lib\\site-packages\\gensim\\matutils.py:737: FutureWarning: Conversion of the second argument of issubdtype from `int` to `np.signedinteger` is deprecated. In future, it will be treated as `np.int32 == np.dtype(int).type`.\n",
      "  if np.issubdtype(vec.dtype, np.int):\n"
     ]
    },
    {
     "data": {
      "text/plain": [
       "[('terrible', 0.8002018928527832),\n",
       " ('spectacular', 0.6747758388519287),\n",
       " ('horrible', 0.6641294956207275),\n",
       " ('memorable', 0.6636854410171509),\n",
       " ('disappointing', 0.6612330079078674),\n",
       " ('good', 0.6345050930976868),\n",
       " ('okay', 0.6225515007972717),\n",
       " ('awful', 0.6201578974723816),\n",
       " ('OK', 0.611832857131958),\n",
       " ('ok', 0.5816461443901062)]"
      ]
     },
     "execution_count": 52,
     "metadata": {},
     "output_type": "execute_result"
    }
   ],
   "source": [
    "# Testing token similarity with other words in the corpus\n",
    "model.most_similar('bad')"
   ]
  },
  {
   "cell_type": "code",
   "execution_count": 53,
   "metadata": {},
   "outputs": [
    {
     "name": "stderr",
     "output_type": "stream",
     "text": [
      "C:\\Users\\dabhi\\Anaconda3\\lib\\site-packages\\ipykernel_launcher.py:2: DeprecationWarning: Call to deprecated `similarity` (Method will be removed in 4.0.0, use self.wv.similarity() instead).\n",
      "  \n",
      "C:\\Users\\dabhi\\Anaconda3\\lib\\site-packages\\gensim\\matutils.py:737: FutureWarning: Conversion of the second argument of issubdtype from `int` to `np.signedinteger` is deprecated. In future, it will be treated as `np.int32 == np.dtype(int).type`.\n",
      "  if np.issubdtype(vec.dtype, np.int):\n"
     ]
    },
    {
     "data": {
      "text/plain": [
       "0.125648"
      ]
     },
     "execution_count": 53,
     "metadata": {},
     "output_type": "execute_result"
    }
   ],
   "source": [
    "# Individually comparing word vectors\n",
    "model.similarity('chicken', 'good')"
   ]
  },
  {
   "cell_type": "code",
   "execution_count": 54,
   "metadata": {},
   "outputs": [
    {
     "name": "stderr",
     "output_type": "stream",
     "text": [
      "C:\\Users\\dabhi\\Anaconda3\\lib\\site-packages\\ipykernel_launcher.py:2: DeprecationWarning: Call to deprecated `similarity` (Method will be removed in 4.0.0, use self.wv.similarity() instead).\n",
      "  \n",
      "C:\\Users\\dabhi\\Anaconda3\\lib\\site-packages\\gensim\\matutils.py:737: FutureWarning: Conversion of the second argument of issubdtype from `int` to `np.signedinteger` is deprecated. In future, it will be treated as `np.int32 == np.dtype(int).type`.\n",
      "  if np.issubdtype(vec.dtype, np.int):\n"
     ]
    },
    {
     "data": {
      "text/plain": [
       "0.8029354"
      ]
     },
     "execution_count": 54,
     "metadata": {},
     "output_type": "execute_result"
    }
   ],
   "source": [
    "# Individually comparing word vectors\n",
    "model.similarity('chicken', 'beef')"
   ]
  },
  {
   "cell_type": "code",
   "execution_count": 55,
   "metadata": {},
   "outputs": [],
   "source": [
    "# Creating bi-grams from word vectors for further analysis"
   ]
  },
  {
   "cell_type": "code",
   "execution_count": 56,
   "metadata": {},
   "outputs": [],
   "source": [
    "bigramer = gensim.models.Phrases(sentences)"
   ]
  },
  {
   "cell_type": "code",
   "execution_count": null,
   "metadata": {},
   "outputs": [],
   "source": [
    "model2 = Word2Vec(bigramer[sentences])"
   ]
  },
  {
   "cell_type": "code",
   "execution_count": 58,
   "metadata": {},
   "outputs": [
    {
     "name": "stderr",
     "output_type": "stream",
     "text": [
      "C:\\Users\\dabhi\\Anaconda3\\lib\\site-packages\\ipykernel_launcher.py:1: DeprecationWarning: Call to deprecated `most_similar` (Method will be removed in 4.0.0, use self.wv.most_similar() instead).\n",
      "  \"\"\"Entry point for launching an IPython kernel.\n",
      "C:\\Users\\dabhi\\Anaconda3\\lib\\site-packages\\gensim\\matutils.py:737: FutureWarning: Conversion of the second argument of issubdtype from `int` to `np.signedinteger` is deprecated. In future, it will be treated as `np.int32 == np.dtype(int).type`.\n",
      "  if np.issubdtype(vec.dtype, np.int):\n"
     ]
    },
    {
     "data": {
      "text/plain": [
       "[('green_curry', 0.8709929585456848),\n",
       " ('yellow_curry', 0.8663526773452759),\n",
       " ('pumpkin_curry', 0.8476070165634155),\n",
       " ('fried_rice', 0.8222556710243225),\n",
       " ('papaya_salad', 0.8082427978515625),\n",
       " ('Pad_Thai', 0.7983030080795288),\n",
       " ('curry', 0.7960075736045837),\n",
       " ('red_curry', 0.777927041053772),\n",
       " ('beef', 0.7601321935653687),\n",
       " ('chicken_satay', 0.7123847007751465)]"
      ]
     },
     "execution_count": 58,
     "metadata": {},
     "output_type": "execute_result"
    }
   ],
   "source": [
    "model2.most_similar('pad_thai')"
   ]
  },
  {
   "cell_type": "code",
   "execution_count": 59,
   "metadata": {},
   "outputs": [],
   "source": [
    "# Creating tri-grams from bi-grams for further analysis"
   ]
  },
  {
   "cell_type": "code",
   "execution_count": null,
   "metadata": {},
   "outputs": [],
   "source": [
    "trigram = Phrases(bigramer[sentences])"
   ]
  },
  {
   "cell_type": "code",
   "execution_count": null,
   "metadata": {},
   "outputs": [],
   "source": [
    "model3 = Word2Vec(trigram[bigramer[sentences]])"
   ]
  },
  {
   "cell_type": "code",
   "execution_count": 62,
   "metadata": {},
   "outputs": [
    {
     "name": "stderr",
     "output_type": "stream",
     "text": [
      "C:\\Users\\dabhi\\Anaconda3\\lib\\site-packages\\ipykernel_launcher.py:1: DeprecationWarning: Call to deprecated `most_similar` (Method will be removed in 4.0.0, use self.wv.most_similar() instead).\n",
      "  \"\"\"Entry point for launching an IPython kernel.\n",
      "C:\\Users\\dabhi\\Anaconda3\\lib\\site-packages\\gensim\\matutils.py:737: FutureWarning: Conversion of the second argument of issubdtype from `int` to `np.signedinteger` is deprecated. In future, it will be treated as `np.int32 == np.dtype(int).type`.\n",
      "  if np.issubdtype(vec.dtype, np.int):\n"
     ]
    },
    {
     "data": {
      "text/plain": [
       "[('pad_see_ew', 0.9154449105262756),\n",
       " ('pad_Thai', 0.8832880258560181),\n",
       " ('yellow_curry', 0.8785807490348816),\n",
       " ('green_curry', 0.8727892637252808),\n",
       " ('pumpkin_curry', 0.8595553636550903),\n",
       " ('curry', 0.8544076681137085),\n",
       " ('pineapple_fried_rice', 0.8523083329200745),\n",
       " ('Pad_Thai', 0.8400980234146118),\n",
       " ('fried_rice', 0.8363942503929138),\n",
       " ('pad_kee_mao', 0.8237977027893066)]"
      ]
     },
     "execution_count": 62,
     "metadata": {},
     "output_type": "execute_result"
    }
   ],
   "source": [
    "model3.most_similar('pad_thai')"
   ]
  },
  {
   "cell_type": "markdown",
   "metadata": {},
   "source": [
    "#### We can see that the cosine similarity gives more accurate results when the unsupervised model incorporates trigrams in the unsupervised machine learning model "
   ]
  },
  {
   "cell_type": "markdown",
   "metadata": {},
   "source": [
    "#### Performing addition of the word vectors to give logical inferences from the unsupervised model(cosine-addition)"
   ]
  },
  {
   "cell_type": "code",
   "execution_count": 63,
   "metadata": {},
   "outputs": [],
   "source": [
    "def word_algebra(add=[], subtract=[], topn=1):\n",
    "    \"\"\"\n",
    "    combine the vectors associated with the words provided\n",
    "    in add= and subtract=, look up the topn most similar\n",
    "    terms to the combined vector, and print the result(s)\n",
    "    \"\"\"\n",
    "    answers = model3.most_similar(positive=add, negative=subtract, topn=topn)\n",
    "    \n",
    "    for term, similarity in answers:\n",
    "        print(term)"
   ]
  },
  {
   "cell_type": "code",
   "execution_count": 64,
   "metadata": {},
   "outputs": [
    {
     "name": "stdout",
     "output_type": "stream",
     "text": [
      "dinner.\n"
     ]
    },
    {
     "name": "stderr",
     "output_type": "stream",
     "text": [
      "C:\\Users\\dabhi\\Anaconda3\\lib\\site-packages\\ipykernel_launcher.py:7: DeprecationWarning: Call to deprecated `most_similar` (Method will be removed in 4.0.0, use self.wv.most_similar() instead).\n",
      "  import sys\n",
      "C:\\Users\\dabhi\\Anaconda3\\lib\\site-packages\\gensim\\matutils.py:737: FutureWarning: Conversion of the second argument of issubdtype from `int` to `np.signedinteger` is deprecated. In future, it will be treated as `np.int32 == np.dtype(int).type`.\n",
      "  if np.issubdtype(vec.dtype, np.int):\n"
     ]
    }
   ],
   "source": [
    "word_algebra(add=[u'breakfast', u'lunch'])"
   ]
  },
  {
   "cell_type": "code",
   "execution_count": 65,
   "metadata": {},
   "outputs": [
    {
     "name": "stdout",
     "output_type": "stream",
     "text": [
      "very_flavorful\n"
     ]
    },
    {
     "name": "stderr",
     "output_type": "stream",
     "text": [
      "C:\\Users\\dabhi\\Anaconda3\\lib\\site-packages\\ipykernel_launcher.py:7: DeprecationWarning: Call to deprecated `most_similar` (Method will be removed in 4.0.0, use self.wv.most_similar() instead).\n",
      "  import sys\n",
      "C:\\Users\\dabhi\\Anaconda3\\lib\\site-packages\\gensim\\matutils.py:737: FutureWarning: Conversion of the second argument of issubdtype from `int` to `np.signedinteger` is deprecated. In future, it will be treated as `np.int32 == np.dtype(int).type`.\n",
      "  if np.issubdtype(vec.dtype, np.int):\n"
     ]
    }
   ],
   "source": [
    "word_algebra(add=[u'chicken', u'good'])"
   ]
  },
  {
   "cell_type": "code",
   "execution_count": 66,
   "metadata": {},
   "outputs": [
    {
     "name": "stdout",
     "output_type": "stream",
     "text": [
      "dinner\n"
     ]
    },
    {
     "name": "stderr",
     "output_type": "stream",
     "text": [
      "C:\\Users\\dabhi\\Anaconda3\\lib\\site-packages\\ipykernel_launcher.py:7: DeprecationWarning: Call to deprecated `most_similar` (Method will be removed in 4.0.0, use self.wv.most_similar() instead).\n",
      "  import sys\n",
      "C:\\Users\\dabhi\\Anaconda3\\lib\\site-packages\\gensim\\matutils.py:737: FutureWarning: Conversion of the second argument of issubdtype from `int` to `np.signedinteger` is deprecated. In future, it will be treated as `np.int32 == np.dtype(int).type`.\n",
      "  if np.issubdtype(vec.dtype, np.int):\n"
     ]
    }
   ],
   "source": [
    "word_algebra(add=[u'lunch', u'night'], subtract=[u'day'])"
   ]
  },
  {
   "cell_type": "code",
   "execution_count": 67,
   "metadata": {},
   "outputs": [
    {
     "name": "stdout",
     "output_type": "stream",
     "text": [
      "house_special\n"
     ]
    },
    {
     "name": "stderr",
     "output_type": "stream",
     "text": [
      "C:\\Users\\dabhi\\Anaconda3\\lib\\site-packages\\ipykernel_launcher.py:7: DeprecationWarning: Call to deprecated `most_similar` (Method will be removed in 4.0.0, use self.wv.most_similar() instead).\n",
      "  import sys\n",
      "C:\\Users\\dabhi\\Anaconda3\\lib\\site-packages\\gensim\\matutils.py:737: FutureWarning: Conversion of the second argument of issubdtype from `int` to `np.signedinteger` is deprecated. In future, it will be treated as `np.int32 == np.dtype(int).type`.\n",
      "  if np.issubdtype(vec.dtype, np.int):\n"
     ]
    }
   ],
   "source": [
    "word_algebra(add=[u'noodle', u'burmese'], subtract=[u'rice'])"
   ]
  },
  {
   "cell_type": "code",
   "execution_count": 68,
   "metadata": {},
   "outputs": [
    {
     "name": "stdout",
     "output_type": "stream",
     "text": [
      "Thai\n"
     ]
    },
    {
     "name": "stderr",
     "output_type": "stream",
     "text": [
      "C:\\Users\\dabhi\\Anaconda3\\lib\\site-packages\\ipykernel_launcher.py:7: DeprecationWarning: Call to deprecated `most_similar` (Method will be removed in 4.0.0, use self.wv.most_similar() instead).\n",
      "  import sys\n",
      "C:\\Users\\dabhi\\Anaconda3\\lib\\site-packages\\gensim\\matutils.py:737: FutureWarning: Conversion of the second argument of issubdtype from `int` to `np.signedinteger` is deprecated. In future, it will be treated as `np.int32 == np.dtype(int).type`.\n",
      "  if np.issubdtype(vec.dtype, np.int):\n"
     ]
    }
   ],
   "source": [
    "word_algebra(add=[u'pad_thai', u'thai'], subtract=[u'chicken'])"
   ]
  },
  {
   "cell_type": "code",
   "execution_count": 69,
   "metadata": {},
   "outputs": [
    {
     "name": "stdout",
     "output_type": "stream",
     "text": [
      "Laotian\n"
     ]
    },
    {
     "name": "stderr",
     "output_type": "stream",
     "text": [
      "C:\\Users\\dabhi\\Anaconda3\\lib\\site-packages\\ipykernel_launcher.py:7: DeprecationWarning: Call to deprecated `most_similar` (Method will be removed in 4.0.0, use self.wv.most_similar() instead).\n",
      "  import sys\n",
      "C:\\Users\\dabhi\\Anaconda3\\lib\\site-packages\\gensim\\matutils.py:737: FutureWarning: Conversion of the second argument of issubdtype from `int` to `np.signedinteger` is deprecated. In future, it will be treated as `np.int32 == np.dtype(int).type`.\n",
      "  if np.issubdtype(vec.dtype, np.int):\n"
     ]
    }
   ],
   "source": [
    "word_algebra(add=[u'thai', u'fine_dining'])"
   ]
  },
  {
   "cell_type": "markdown",
   "metadata": {},
   "source": [
    "### LDA modelling\n",
    "#### In NLP applications, documents are represented a mixture of the individual tokens (words and phrases) they contain. There are two layers in this model — documents and tokens — and the size or dimensionality of the document vectors is the number of tokens in the corpus vocabulary. \n",
    "#### Using LDA documents are represented as a mixture of a pre-defined number of topics, and the topics are represented as a mixture of the individual tokens in the vocabulary thereby reducing the dimensionality of the model. \n",
    "#### LDA is fully unsupervised. The topics are \"discovered\" automatically from the data by trying to maximize the likelihood of observing the documents in your corpus, given the modeling assumptions. LDA uses a simplifying assumption known as the bag-of-words model. In the bag-of-words model, a document is represented by the counts of distinct terms that occur within it. \n",
    "#### pyLDAvis takes topic models created with gensim and prepare their data for visualization."
   ]
  },
  {
   "cell_type": "code",
   "execution_count": 70,
   "metadata": {},
   "outputs": [],
   "source": [
    "# ### The scope of LDA is reduced to a single restaurant\n",
    "# dr = df[df.restaurant == 'Marnee Thai']"
   ]
  },
  {
   "cell_type": "code",
   "execution_count": 71,
   "metadata": {},
   "outputs": [],
   "source": [
    "# reviews_list_ = list(dr.text)\n",
    "# sentences_    = [word_tokenize(x) for x in reviews_list_]"
   ]
  },
  {
   "cell_type": "code",
   "execution_count": 72,
   "metadata": {},
   "outputs": [],
   "source": [
    "# import pyLDAvis.gensim\n",
    "# from gensim import corpora, models\n",
    "# pyLDAvis.enable_notebook() # in order for our visual to show up"
   ]
  },
  {
   "cell_type": "code",
   "execution_count": 73,
   "metadata": {},
   "outputs": [],
   "source": [
    "# dictionary = corpora.Dictionary(sentences_)\n",
    "\n",
    "# corpus = [dictionary.doc2bow(text) for text in sentences]"
   ]
  },
  {
   "cell_type": "code",
   "execution_count": 74,
   "metadata": {},
   "outputs": [],
   "source": [
    "# ldamodel = models.ldamodel.LdaModel(corpus,\n",
    "#                                     id2word = dictionary, # connect each word to its \"spot\" in the dictionary\n",
    "#                                     num_topics = 50, # hyperparameter T for number of topics\n",
    "#                                     passes = 5, # similar to epochs, how many times do we iterate through the data\n",
    "#                                     minimum_probability = 0.01) # only including topics that meet some probability threshold"
   ]
  },
  {
   "cell_type": "code",
   "execution_count": 75,
   "metadata": {},
   "outputs": [],
   "source": [
    "# pyLDAvis.gensim.prepare(ldamodel, corpus, dictionary)"
   ]
  },
  {
   "cell_type": "markdown",
   "metadata": {},
   "source": [
    "### TSNE - wordvector visualization with sci-kit learn"
   ]
  },
  {
   "cell_type": "code",
   "execution_count": 76,
   "metadata": {},
   "outputs": [],
   "source": [
    "# from sklearn.manifold import TSNE\n",
    "# import matplotlib.pyplot as plt"
   ]
  },
  {
   "cell_type": "code",
   "execution_count": 77,
   "metadata": {},
   "outputs": [],
   "source": [
    "# model = Word2Vec(sentences_, workers=4, size=100, min_count=50, window=10, sample=1e-3)"
   ]
  },
  {
   "cell_type": "code",
   "execution_count": 78,
   "metadata": {},
   "outputs": [],
   "source": [
    "# X = model[model.wv.vocab]\n",
    "\n",
    "# tsne = TSNE(n_components=2)\n",
    "# X_tsne = tsne.fit_transform(X)\n",
    "\n",
    "# plt.scatter(X_tsne[:, 0], X_tsne[:, 1])\n",
    "# plt.show()"
   ]
  }
 ],
 "metadata": {
  "kernelspec": {
   "display_name": "Python 3",
   "language": "python",
   "name": "python3"
  },
  "language_info": {
   "codemirror_mode": {
    "name": "ipython",
    "version": 3
   },
   "file_extension": ".py",
   "mimetype": "text/x-python",
   "name": "python",
   "nbconvert_exporter": "python",
   "pygments_lexer": "ipython3",
   "version": "3.6.5"
  }
 },
 "nbformat": 4,
 "nbformat_minor": 2
}
